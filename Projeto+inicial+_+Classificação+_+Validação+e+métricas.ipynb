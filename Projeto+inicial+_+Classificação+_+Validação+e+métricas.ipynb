{
  "nbformat": 4,
  "nbformat_minor": 0,
  "metadata": {
    "colab": {
      "provenance": []
    },
    "kernelspec": {
      "name": "python3",
      "display_name": "Python 3"
    },
    "language_info": {
      "name": "python"
    }
  },
  "cells": [
    {
      "cell_type": "markdown",
      "source": [
        "# <font color='dark'>**Classificação: Validação de modelos e métricas de avaliação**</h1>"
      ],
      "metadata": {
        "id": "MCqTDybk4ShK"
      }
    },
    {
      "cell_type": "markdown",
      "source": [
        "### Projeto\n",
        "\n",
        "Uma empresa de empréstimo de automóveis está passando por uma situação complicada, com alta demanda para uma frota reduzida de veículos e alto número de inadimplentes, trazendo um prejuízo grande para a empresa.\n",
        "\n",
        "Nós fomos contratados para buscar melhorias na identificação de inadimplentes. A análise dos clientes atualmente é feita de forma manual, cliente por cliente, tomando muito tempo e ainda assim a detecção de inadimplentes é muito imprecisa.\n",
        "\n",
        "Nossa tarefa é utilizar os dados fornecidos pela empresa para **classificar** os clientes em adimplentes e inadimplentes."
      ],
      "metadata": {
        "id": "WscU3KG7a9No"
      }
    },
    {
      "cell_type": "markdown",
      "source": [
        "## <font color='dark'>Classificando dados</h1>"
      ],
      "metadata": {
        "id": "WgS8iF51Csrn"
      }
    },
    {
      "cell_type": "markdown",
      "source": [
        "### Criando um modelo inicial"
      ],
      "metadata": {
        "id": "6lExmBuKn-xe"
      }
    },
    {
      "cell_type": "code",
      "execution_count": 1,
      "metadata": {
        "id": "ZP9giPwL7Qvz"
      },
      "outputs": [],
      "source": [
        "import pandas as pd"
      ]
    },
    {
      "cell_type": "code",
      "source": [
        "dados = pd.read_csv(\"/content/emp_automovel.csv\")"
      ],
      "metadata": {
        "id": "w1MaIGaj7UZL"
      },
      "execution_count": 2,
      "outputs": []
    },
    {
      "cell_type": "code",
      "source": [
        "x = dados.drop(\"inadimplente\", axis =1)\n",
        "y = dados[\"inadimplente\"]"
      ],
      "metadata": {
        "id": "ef4aPUAHkyLQ"
      },
      "execution_count": 3,
      "outputs": []
    },
    {
      "cell_type": "code",
      "source": [
        "from sklearn.tree import DecisionTreeClassifier"
      ],
      "metadata": {
        "id": "NKbv-w-3leuU"
      },
      "execution_count": 4,
      "outputs": []
    },
    {
      "cell_type": "code",
      "source": [
        "modelo = DecisionTreeClassifier()\n",
        "modelo.fit(x, y)\n",
        "modelo.score(x, y)"
      ],
      "metadata": {
        "id": "FTipCyhPmQX2",
        "colab": {
          "base_uri": "https://localhost:8080/"
        },
        "outputId": "70ece9f9-8e72-41fc-fad9-7129f2ec5fbe"
      },
      "execution_count": 5,
      "outputs": [
        {
          "output_type": "execute_result",
          "data": {
            "text/plain": [
              "1.0"
            ]
          },
          "metadata": {},
          "execution_count": 5
        }
      ]
    },
    {
      "cell_type": "code",
      "source": [
        "print(f\"Acurácia: {modelo.score(x, y)}\")"
      ],
      "metadata": {
        "id": "_lzOsMZamTZr",
        "colab": {
          "base_uri": "https://localhost:8080/"
        },
        "outputId": "ab9d3224-ed11-409f-d888-ea472c780cd7"
      },
      "execution_count": 6,
      "outputs": [
        {
          "output_type": "stream",
          "name": "stdout",
          "text": [
            "Acurácia: 1.0\n"
          ]
        }
      ]
    },
    {
      "cell_type": "code",
      "source": [
        "from sklearn.model_selection import train_test_split"
      ],
      "metadata": {
        "id": "D1j60eFOeY4-"
      },
      "execution_count": 7,
      "outputs": []
    },
    {
      "cell_type": "code",
      "source": [
        "x, x_teste, y, y_teste = train_test_split(x, y, test_size = 0.15, stratify = y, random_state = 5)\n",
        "x_treino, x_val, y_treino, y_val = train_test_split(x, y, stratify = y, random_state = 5)"
      ],
      "metadata": {
        "id": "wtWP-ex2dUnW"
      },
      "execution_count": 8,
      "outputs": []
    },
    {
      "cell_type": "code",
      "source": [
        "modelo = DecisionTreeClassifier()\n",
        "modelo.fit(x_treino, y_treino)\n",
        "print(f\"Acurácia de treino: {modelo.score(x_treino, y_treino)}\")\n",
        "print(f\"Acurácia de validação:{modelo.score(x_val, y_val)}\")"
      ],
      "metadata": {
        "colab": {
          "base_uri": "https://localhost:8080/"
        },
        "id": "RvsYkprnerf3",
        "outputId": "0d6bf8ae-7fb5-4b15-a79e-061d98a33fb4"
      },
      "execution_count": 9,
      "outputs": [
        {
          "output_type": "stream",
          "name": "stdout",
          "text": [
            "Acurácia de treino: 1.0\n",
            "Acurácia de validação:0.8483581569549691\n"
          ]
        }
      ]
    },
    {
      "cell_type": "code",
      "source": [
        "modelo = DecisionTreeClassifier(max_depth = 10)\n",
        "modelo.fit(x_treino, y_treino)\n",
        "print(f\"Acurácia de treino: {modelo.score(x_treino, y_treino)}\")\n",
        "print(f\"Acurácia de validação:{modelo.score(x_val, y_val)}\")"
      ],
      "metadata": {
        "colab": {
          "base_uri": "https://localhost:8080/"
        },
        "id": "MO3XMja4fyIm",
        "outputId": "924b236d-6f36-42d6-da55-5f190d60fa74"
      },
      "execution_count": 10,
      "outputs": [
        {
          "output_type": "stream",
          "name": "stdout",
          "text": [
            "Acurácia de treino: 0.9205574912891986\n",
            "Acurácia de validação:0.9055831373573731\n"
          ]
        }
      ]
    },
    {
      "cell_type": "code",
      "source": [
        "from sklearn.metrics import confusion_matrix"
      ],
      "metadata": {
        "id": "6haBfZ4phI4I"
      },
      "execution_count": 11,
      "outputs": []
    },
    {
      "cell_type": "code",
      "source": [
        "y_previsto = modelo.predict(x_val)\n",
        "matriz_confusao = confusion_matrix(y_val, y_previsto)\n",
        "print(matriz_confusao)"
      ],
      "metadata": {
        "colab": {
          "base_uri": "https://localhost:8080/"
        },
        "id": "VYtZelU-iQ6d",
        "outputId": "056187fb-e505-4a04-912a-c9f94170cad4"
      },
      "execution_count": 12,
      "outputs": [
        {
          "output_type": "stream",
          "name": "stdout",
          "text": [
            "[[10355   124]\n",
            " [  960    42]]\n"
          ]
        }
      ]
    },
    {
      "cell_type": "code",
      "source": [
        "from sklearn.metrics import ConfusionMatrixDisplay"
      ],
      "metadata": {
        "id": "HUAVGMHpi8xS"
      },
      "execution_count": 13,
      "outputs": []
    },
    {
      "cell_type": "code",
      "source": [
        "vizualizacao = ConfusionMatrixDisplay(confusion_matrix = matriz_confusao, display_labels = [\"adimplente\", \"inadimplente\"])\n",
        "vizualizacao.plot();"
      ],
      "metadata": {
        "colab": {
          "base_uri": "https://localhost:8080/",
          "height": 449
        },
        "id": "6PUdB3d1jPsc",
        "outputId": "4b20cfdb-8041-4c72-bfde-0f67e5066149"
      },
      "execution_count": 14,
      "outputs": [
        {
          "output_type": "display_data",
          "data": {
            "text/plain": [
              "<Figure size 640x480 with 2 Axes>"
            ],
            "image/png": "[encoded data removed]"
          },
          "metadata": {}
        }
      ]
    },
    {
      "cell_type": "code",
      "source": [
        "from sklearn.metrics import accuracy_score"
      ],
      "metadata": {
        "id": "wHpZwMYkjiBC"
      },
      "execution_count": 15,
      "outputs": []
    },
    {
      "cell_type": "code",
      "source": [
        "print(f'Acurácia: {accuracy_score(y_val, y_previsto)}')"
      ],
      "metadata": {
        "colab": {
          "base_uri": "https://localhost:8080/"
        },
        "id": "R65abqkOpiBl",
        "outputId": "d375a095-0c15-47a2-946f-e4df8bcd642c"
      },
      "execution_count": 16,
      "outputs": [
        {
          "output_type": "stream",
          "name": "stdout",
          "text": [
            "Acurácia: 0.9055831373573731\n"
          ]
        }
      ]
    },
    {
      "cell_type": "code",
      "source": [
        "from sklearn.metrics import precision_score, recall_score"
      ],
      "metadata": {
        "id": "EQcJSk0aqXuy"
      },
      "execution_count": 17,
      "outputs": []
    },
    {
      "cell_type": "code",
      "source": [
        "print(f'Precisão: {precision_score(y_val, y_previsto)}')\n",
        "print(f'Recall: {recall_score(y_val, y_previsto)}')"
      ],
      "metadata": {
        "colab": {
          "base_uri": "https://localhost:8080/"
        },
        "id": "uIBkuZmuqat1",
        "outputId": "5d990c7f-8dfc-4836-ba79-ecfeaab2eff5"
      },
      "execution_count": 18,
      "outputs": [
        {
          "output_type": "stream",
          "name": "stdout",
          "text": [
            "Precisão: 0.25301204819277107\n",
            "Recall: 0.041916167664670656\n"
          ]
        }
      ]
    },
    {
      "cell_type": "code",
      "source": [
        "from sklearn.metrics import f1_score"
      ],
      "metadata": {
        "id": "w4ZOT0-4qutd"
      },
      "execution_count": 19,
      "outputs": []
    },
    {
      "cell_type": "code",
      "source": [
        "print(f'F1-Score: {f1_score(y_val, y_previsto)}')"
      ],
      "metadata": {
        "colab": {
          "base_uri": "https://localhost:8080/"
        },
        "id": "JOwj_NqGradV",
        "outputId": "7e2bd113-37e6-46d9-91e2-8eb7eadbf312"
      },
      "execution_count": 20,
      "outputs": [
        {
          "output_type": "stream",
          "name": "stdout",
          "text": [
            "F1-Score: 0.07191780821917808\n"
          ]
        }
      ]
    },
    {
      "cell_type": "markdown",
      "source": [
        "Curva ROC\n"
      ],
      "metadata": {
        "id": "Jllu7ZTis8-F"
      }
    },
    {
      "cell_type": "code",
      "source": [
        "from sklearn.metrics import RocCurveDisplay"
      ],
      "metadata": {
        "id": "XFat7YS-tEPi"
      },
      "execution_count": 21,
      "outputs": []
    },
    {
      "cell_type": "code",
      "source": [
        "RocCurveDisplay.from_predictions(y_val, y_val, name = \"Árvore de Decisão\");"
      ],
      "metadata": {
        "colab": {
          "base_uri": "https://localhost:8080/",
          "height": 451
        },
        "id": "3RPm-MshtKJ_",
        "outputId": "044fa29c-275a-4fe0-b5ee-45ee09b863f3"
      },
      "execution_count": 22,
      "outputs": [
        {
          "output_type": "display_data",
          "data": {
            "text/plain": [
              "<Figure size 640x480 with 1 Axes>"
            ],
            "image/png": "[encoded data removed]"
          },
          "metadata": {}
        }
      ]
    },
    {
      "cell_type": "code",
      "source": [
        "from sklearn.metrics import roc_auc_score"
      ],
      "metadata": {
        "id": "xFBbOhp4tfO9"
      },
      "execution_count": 23,
      "outputs": []
    },
    {
      "cell_type": "code",
      "source": [
        "print(f'AUC: {roc_auc_score(y_val, y_previsto)}')"
      ],
      "metadata": {
        "colab": {
          "base_uri": "https://localhost:8080/"
        },
        "id": "h7L1-2OXuZhy",
        "outputId": "630aef36-23e3-4ae5-dbe4-03974544511c"
      },
      "execution_count": 24,
      "outputs": [
        {
          "output_type": "stream",
          "name": "stdout",
          "text": [
            "AUC: 0.5150414887373835\n"
          ]
        }
      ]
    },
    {
      "cell_type": "markdown",
      "source": [
        "Curva de precisão x recall"
      ],
      "metadata": {
        "id": "hLiiHTxExcbD"
      }
    },
    {
      "cell_type": "code",
      "source": [
        "from sklearn.metrics import PrecisionRecallDisplay"
      ],
      "metadata": {
        "id": "ZYzmmFLuxi-1"
      },
      "execution_count": 25,
      "outputs": []
    },
    {
      "cell_type": "code",
      "source": [
        "PrecisionRecallDisplay.from_predictions(y_val, y_previsto, name = \"Árvore de Decisão\");"
      ],
      "metadata": {
        "colab": {
          "base_uri": "https://localhost:8080/",
          "height": 451
        },
        "id": "1RRLw9ykxrCo",
        "outputId": "17d81a83-3d99-475a-9d05-04110c382ecd"
      },
      "execution_count": 26,
      "outputs": [
        {
          "output_type": "display_data",
          "data": {
            "text/plain": [
              "<Figure size 640x480 with 1 Axes>"
            ],
            "image/png": "[encoded data removed]"
          },
          "metadata": {}
        }
      ]
    },
    {
      "cell_type": "code",
      "source": [
        "from sklearn.metrics import average_precision_score"
      ],
      "metadata": {
        "id": "G4GCo_-Cy4MW"
      },
      "execution_count": 27,
      "outputs": []
    },
    {
      "cell_type": "code",
      "source": [
        "print(f'AP: {average_precision_score(y_val, y_previsto)}')"
      ],
      "metadata": {
        "colab": {
          "base_uri": "https://localhost:8080/"
        },
        "id": "LnjEXX6VzHaU",
        "outputId": "a5ea1d34-833a-4104-cdd5-04465397b0ec"
      },
      "execution_count": 28,
      "outputs": [
        {
          "output_type": "stream",
          "name": "stdout",
          "text": [
            "AP: 0.09422170515363755\n"
          ]
        }
      ]
    },
    {
      "cell_type": "code",
      "source": [
        "from sklearn.metrics import classification_report"
      ],
      "metadata": {
        "id": "h2zJD0sCzYyg"
      },
      "execution_count": 29,
      "outputs": []
    },
    {
      "cell_type": "markdown",
      "source": [
        "Relatório de métricas"
      ],
      "metadata": {
        "id": "jjdP2A1m0ppE"
      }
    },
    {
      "cell_type": "code",
      "source": [
        "print(classification_report(y_val, y_previsto))"
      ],
      "metadata": {
        "colab": {
          "base_uri": "https://localhost:8080/"
        },
        "id": "ulJsi-4Z0PRK",
        "outputId": "f19adb25-0cfd-46b5-a6be-c7c533a979b5"
      },
      "execution_count": 30,
      "outputs": [
        {
          "output_type": "stream",
          "name": "stdout",
          "text": [
            "              precision    recall  f1-score   support\n",
            "\n",
            "           0       0.92      0.99      0.95     10479\n",
            "           1       0.25      0.04      0.07      1002\n",
            "\n",
            "    accuracy                           0.91     11481\n",
            "   macro avg       0.58      0.52      0.51     11481\n",
            "weighted avg       0.86      0.91      0.87     11481\n",
            "\n"
          ]
        }
      ]
    },
    {
      "cell_type": "markdown",
      "source": [
        "Kfold"
      ],
      "metadata": {
        "id": "rptmGNqbgI_z"
      }
    },
    {
      "cell_type": "code",
      "source": [
        "from sklearn.model_selection import cross_validate, KFold"
      ],
      "metadata": {
        "id": "p3xUZrQGgNBM"
      },
      "execution_count": 31,
      "outputs": []
    },
    {
      "cell_type": "code",
      "source": [
        "modelo = DecisionTreeClassifier(max_depth = 10)\n",
        "kf = KFold(n_splits = 5, shuffle = True, random_state = 5)\n",
        "cv_resultado = cross_validate(modelo, x, y, cv = kf)\n",
        "cv_resultado"
      ],
      "metadata": {
        "colab": {
          "base_uri": "https://localhost:8080/"
        },
        "id": "Wpam6WGQgfQU",
        "outputId": "d0a79528-b605-458f-c368-009488c13bda"
      },
      "execution_count": 32,
      "outputs": [
        {
          "output_type": "execute_result",
          "data": {
            "text/plain": [
              "{'fit_time': array([0.53285766, 0.67848635, 0.48584247, 0.70865345, 0.43242621]),\n",
              " 'score_time': array([0.00810456, 0.01239252, 0.0122745 , 0.00907159, 0.00528002]),\n",
              " 'test_score': array([0.91322809, 0.90820993, 0.90733885, 0.91332753, 0.89949913])}"
            ]
          },
          "metadata": {},
          "execution_count": 32
        }
      ]
    },
    {
      "cell_type": "markdown",
      "source": [
        "Validação cruzada com recall"
      ],
      "metadata": {
        "id": "KFLTR19EmAsq"
      }
    },
    {
      "cell_type": "code",
      "source": [
        "def intervalo_conf(resultados):\n",
        "    media = resultados[\"test_score\"].mean()\n",
        "    desvio_padrao = resultados[\"test_score\"].std()\n",
        "    print(f\"Intervalo de Confiança: [{media * 2 - desvio_padrao}, {min(media + 2 * desvio_padrao, 1)}]\")"
      ],
      "metadata": {
        "id": "PiaQRpGrhsvl"
      },
      "execution_count": 33,
      "outputs": []
    },
    {
      "cell_type": "code",
      "source": [
        "modelo = DecisionTreeClassifier(max_depth = 10)\n",
        "kf = KFold(n_splits = 5, shuffle = True, random_state = 5)\n",
        "cv_resultado = cross_validate(modelo, x, y, cv = kf, scoring = \"recall\")\n",
        "cv_resultado"
      ],
      "metadata": {
        "colab": {
          "base_uri": "https://localhost:8080/"
        },
        "id": "jfsunUkTjgsX",
        "outputId": "68d37709-ece1-4157-cf68-027a1279e98e"
      },
      "execution_count": 34,
      "outputs": [
        {
          "output_type": "execute_result",
          "data": {
            "text/plain": [
              "{'fit_time': array([0.39777589, 0.43894649, 0.4459753 , 0.26659489, 0.23628497]),\n",
              " 'score_time': array([0.00943804, 0.00866795, 0.00915408, 0.00634313, 0.00609326]),\n",
              " 'test_score': array([0.02509908, 0.02351485, 0.0196802 , 0.01305483, 0.02427746])}"
            ]
          },
          "metadata": {},
          "execution_count": 34
        }
      ]
    },
    {
      "cell_type": "code",
      "source": [
        "intervalo_conf(cv_resultado)"
      ],
      "metadata": {
        "colab": {
          "base_uri": "https://localhost:8080/"
        },
        "id": "0QGdEGrepCpk",
        "outputId": "50944824-453a-4b96-d122-2d04398065fb"
      },
      "execution_count": 35,
      "outputs": [
        {
          "output_type": "stream",
          "name": "stdout",
          "text": [
            "Intervalo de Confiança: [0.03780854343817145, 0.030009323642604634]\n"
          ]
        }
      ]
    },
    {
      "cell_type": "markdown",
      "source": [
        "Estratificando os  dados"
      ],
      "metadata": {
        "id": "S1PqyRc-nOuf"
      }
    },
    {
      "cell_type": "code",
      "source": [
        "dados[\"inadimplente\"].value_counts(normalize = True)"
      ],
      "metadata": {
        "colab": {
          "base_uri": "https://localhost:8080/",
          "height": 178
        },
        "id": "ILSNt48NnZJB",
        "outputId": "b93e009c-e97e-4c06-da9e-411c72e7e5c2"
      },
      "execution_count": 36,
      "outputs": [
        {
          "output_type": "execute_result",
          "data": {
            "text/plain": [
              "inadimplente\n",
              "0    0.912707\n",
              "1    0.087293\n",
              "Name: proportion, dtype: float64"
            ],
            "text/html": [
              "<div>\n",
              "<style scoped>\n",
              "    .dataframe tbody tr th:only-of-type {\n",
              "        vertical-align: middle;\n",
              "    }\n",
              "\n",
              "    .dataframe tbody tr th {\n",
              "        vertical-align: top;\n",
              "    }\n",
              "\n",
              "    .dataframe thead th {\n",
              "        text-align: right;\n",
              "    }\n",
              "</style>\n",
              "<table border=\"1\" class=\"dataframe\">\n",
              "  <thead>\n",
              "    <tr style=\"text-align: right;\">\n",
              "      <th></th>\n",
              "      <th>proportion</th>\n",
              "    </tr>\n",
              "    <tr>\n",
              "      <th>inadimplente</th>\n",
              "      <th></th>\n",
              "    </tr>\n",
              "  </thead>\n",
              "  <tbody>\n",
              "    <tr>\n",
              "      <th>0</th>\n",
              "      <td>0.912707</td>\n",
              "    </tr>\n",
              "    <tr>\n",
              "      <th>1</th>\n",
              "      <td>0.087293</td>\n",
              "    </tr>\n",
              "  </tbody>\n",
              "</table>\n",
              "</div><br><label><b>dtype:</b> float64</label>"
            ]
          },
          "metadata": {},
          "execution_count": 36
        }
      ]
    },
    {
      "cell_type": "code",
      "source": [
        "from sklearn.model_selection import StratifiedKFold"
      ],
      "metadata": {
        "id": "ZBv1bbcWnufk"
      },
      "execution_count": 37,
      "outputs": []
    },
    {
      "cell_type": "code",
      "source": [
        "modelo = DecisionTreeClassifier(max_depth = 10)\n",
        "skf = StratifiedKFold(n_splits = 5, shuffle = True, random_state = 5)\n",
        "cv_resultados = cross_validate(modelo, x, y, cv = skf,scoring = \"recall\")\n",
        "cv_resultados"
      ],
      "metadata": {
        "colab": {
          "base_uri": "https://localhost:8080/"
        },
        "id": "tdRne1EvoALw",
        "outputId": "b3036e6f-47b2-4d0f-d2e9-6de0835939f0"
      },
      "execution_count": 38,
      "outputs": [
        {
          "output_type": "execute_result",
          "data": {
            "text/plain": [
              "{'fit_time': array([0.25021076, 0.25372839, 0.23337889, 0.22722316, 0.24357772]),\n",
              " 'score_time': array([0.00683618, 0.0057776 , 0.00565934, 0.00555468, 0.00583553]),\n",
              " 'test_score': array([0.03865337, 0.02621723, 0.02992519, 0.02493766, 0.02493766])}"
            ]
          },
          "metadata": {},
          "execution_count": 38
        }
      ]
    },
    {
      "cell_type": "code",
      "source": [
        "intervalo_conf(cv_resultados)\n"
      ],
      "metadata": {
        "colab": {
          "base_uri": "https://localhost:8080/"
        },
        "id": "81jbqhf5opox",
        "outputId": "df31b916-ec60-4e2e-837a-dfb5432e0a39"
      },
      "execution_count": 39,
      "outputs": [
        {
          "output_type": "stream",
          "name": "stdout",
          "text": [
            "Intervalo de Confiança: [0.052676695638927476, 0.03931770252322289]\n"
          ]
        }
      ]
    },
    {
      "cell_type": "markdown",
      "source": [
        "Oversamplig"
      ],
      "metadata": {
        "id": "KiaEwq-Mt4Bb"
      }
    },
    {
      "cell_type": "code",
      "source": [
        "from imblearn.over_sampling import SMOTE"
      ],
      "metadata": {
        "id": "iapMqCPvpJed"
      },
      "execution_count": 40,
      "outputs": []
    },
    {
      "cell_type": "code",
      "source": [
        "oversample = SMOTE()\n",
        "x_balanceado, y_balanceado = oversample.fit_resample(x, y)"
      ],
      "metadata": {
        "id": "O-3cJztjuI_q"
      },
      "execution_count": 41,
      "outputs": []
    },
    {
      "cell_type": "code",
      "source": [
        "y_balanceado.value_counts(normalize = True)"
      ],
      "metadata": {
        "colab": {
          "base_uri": "https://localhost:8080/",
          "height": 178
        },
        "id": "rV3MtXz6ukVk",
        "outputId": "75b1faf3-1417-4319-b06b-3af1130365bd"
      },
      "execution_count": 42,
      "outputs": [
        {
          "output_type": "execute_result",
          "data": {
            "text/plain": [
              "inadimplente\n",
              "0    0.5\n",
              "1    0.5\n",
              "Name: proportion, dtype: float64"
            ],
            "text/html": [
              "<div>\n",
              "<style scoped>\n",
              "    .dataframe tbody tr th:only-of-type {\n",
              "        vertical-align: middle;\n",
              "    }\n",
              "\n",
              "    .dataframe tbody tr th {\n",
              "        vertical-align: top;\n",
              "    }\n",
              "\n",
              "    .dataframe thead th {\n",
              "        text-align: right;\n",
              "    }\n",
              "</style>\n",
              "<table border=\"1\" class=\"dataframe\">\n",
              "  <thead>\n",
              "    <tr style=\"text-align: right;\">\n",
              "      <th></th>\n",
              "      <th>proportion</th>\n",
              "    </tr>\n",
              "    <tr>\n",
              "      <th>inadimplente</th>\n",
              "      <th></th>\n",
              "    </tr>\n",
              "  </thead>\n",
              "  <tbody>\n",
              "    <tr>\n",
              "      <th>0</th>\n",
              "      <td>0.5</td>\n",
              "    </tr>\n",
              "    <tr>\n",
              "      <th>1</th>\n",
              "      <td>0.5</td>\n",
              "    </tr>\n",
              "  </tbody>\n",
              "</table>\n",
              "</div><br><label><b>dtype:</b> float64</label>"
            ]
          },
          "metadata": {},
          "execution_count": 42
        }
      ]
    },
    {
      "cell_type": "code",
      "source": [
        "modelo = DecisionTreeClassifier(max_depth = 10)\n",
        "skf = StratifiedKFold(n_splits = 5, shuffle = True, random_state = 5)\n",
        "cv_resultados = cross_validate(modelo, x_balanceado, y_balanceado, cv = skf,scoring = \"recall\")\n",
        "cv_resultados\n"
      ],
      "metadata": {
        "colab": {
          "base_uri": "https://localhost:8080/"
        },
        "id": "fPmqMmaCu1lp",
        "outputId": "3d6cede4-473b-4a89-c773-e95d7e21bda4"
      },
      "execution_count": 43,
      "outputs": [
        {
          "output_type": "execute_result",
          "data": {
            "text/plain": [
              "{'fit_time': array([0.52849174, 0.52686644, 0.51732254, 0.51984167, 0.67298317]),\n",
              " 'score_time': array([0.01130891, 0.00721264, 0.00749469, 0.00739312, 0.0112431 ]),\n",
              " 'test_score': array([0.74170842, 0.72906228, 0.7323154 , 0.76380771, 0.73228346])}"
            ]
          },
          "metadata": {},
          "execution_count": 43
        }
      ]
    },
    {
      "cell_type": "code",
      "source": [
        "intervalo_conf(cv_resultados)"
      ],
      "metadata": {
        "colab": {
          "base_uri": "https://localhost:8080/"
        },
        "id": "n2o2ROD5vX7c",
        "outputId": "674bbb41-43e7-4549-da91-37178f8a682e"
      },
      "execution_count": 44,
      "outputs": [
        {
          "output_type": "stream",
          "name": "stdout",
          "text": [
            "Intervalo de Confiança: [1.4669601094884681, 0.765257050993681]\n"
          ]
        }
      ]
    },
    {
      "cell_type": "markdown",
      "source": [
        "Pipeline para validação"
      ],
      "metadata": {
        "id": "TCvkazslxL2U"
      }
    },
    {
      "cell_type": "code",
      "source": [
        "from imblearn.pipeline import Pipeline as imbpipeline"
      ],
      "metadata": {
        "id": "9xR-Ie9vvohk"
      },
      "execution_count": 45,
      "outputs": []
    },
    {
      "cell_type": "code",
      "source": [
        "modelo = DecisionTreeClassifier(max_depth = 10)\n",
        "pipeline = imbpipeline(steps = [(\"oversample\", SMOTE()), (\"arvore\", modelo)])"
      ],
      "metadata": {
        "id": "3kHGZY4ZxcVk"
      },
      "execution_count": 46,
      "outputs": []
    },
    {
      "cell_type": "code",
      "source": [
        "skf = StratifiedKFold(n_splits = 5, shuffle = True, random_state = 5)\n",
        "cv_resultados = cross_validate(pipeline, x, y, cv = skf,scoring = \"recall\")"
      ],
      "metadata": {
        "id": "zKUiAVTRx7nt"
      },
      "execution_count": 47,
      "outputs": []
    },
    {
      "cell_type": "code",
      "source": [
        "intervalo_conf(cv_resultados)"
      ],
      "metadata": {
        "colab": {
          "base_uri": "https://localhost:8080/"
        },
        "id": "aYewx91DyVd3",
        "outputId": "7afde6fa-f0c5-42de-ae27-263cea0a2fc4"
      },
      "execution_count": 48,
      "outputs": [
        {
          "output_type": "stream",
          "name": "stdout",
          "text": [
            "Intervalo de Confiança: [0.49953035184045225, 0.3254837404522085]\n"
          ]
        }
      ]
    },
    {
      "cell_type": "markdown",
      "source": [
        "Undersampling"
      ],
      "metadata": {
        "id": "U1RgJTkm4I8o"
      }
    },
    {
      "cell_type": "code",
      "source": [
        "from imblearn.under_sampling import NearMiss"
      ],
      "metadata": {
        "id": "-_rMD6nE4LNS"
      },
      "execution_count": 49,
      "outputs": []
    },
    {
      "cell_type": "code",
      "source": [
        "modelo = DecisionTreeClassifier(max_depth = 10)\n",
        "pipeline = imbpipeline(steps = [(\"undersample\", NearMiss(version = 3)), (\"arvore\", modelo)])\n",
        "skf = StratifiedKFold(n_splits = 5, shuffle = True, random_state = 5)\n",
        "cv_resultados = cross_validate(pipeline, x, y, cv = skf,scoring = \"recall\")"
      ],
      "metadata": {
        "id": "xAjeFr-j4RoF"
      },
      "execution_count": 50,
      "outputs": []
    },
    {
      "cell_type": "code",
      "source": [
        "intervalo_conf(cv_resultados)"
      ],
      "metadata": {
        "colab": {
          "base_uri": "https://localhost:8080/"
        },
        "id": "qQwfgG9r4uSk",
        "outputId": "38b62b67-d6ed-4253-819a-1a6be29822db"
      },
      "execution_count": 51,
      "outputs": [
        {
          "output_type": "stream",
          "name": "stdout",
          "text": [
            "Intervalo de Confiança: [1.3085253767710932, 0.7004451446648556]\n"
          ]
        }
      ]
    },
    {
      "cell_type": "markdown",
      "source": [
        "Testando o modelo"
      ],
      "metadata": {
        "id": "JA-ZVMoN5qTc"
      }
    },
    {
      "cell_type": "code",
      "source": [
        "undersample = NearMiss(version = 3)\n",
        "x_balanceado, y_balanceado = undersample.fit_resample(x, y)\n",
        "\n",
        "modelo = DecisionTreeClassifier(max_depth = 10)\n",
        "modelo.fit(x_balanceado, y_balanceado)\n",
        "y_previsto = modelo.predict(x_teste)\n",
        "\n",
        "print(classification_report(y_teste, y_previsto))\n",
        "ConfusionMatrixDisplay.from_predictions(y_teste, y_previsto);"
      ],
      "metadata": {
        "colab": {
          "base_uri": "https://localhost:8080/",
          "height": 613
        },
        "id": "rYUFLZvD4xWm",
        "outputId": "72505148-0582-47c2-b319-29d1b047add2"
      },
      "execution_count": 52,
      "outputs": [
        {
          "output_type": "stream",
          "name": "stdout",
          "text": [
            "              precision    recall  f1-score   support\n",
            "\n",
            "           0       0.94      0.48      0.64      7397\n",
            "           1       0.12      0.70      0.20       707\n",
            "\n",
            "    accuracy                           0.50      8104\n",
            "   macro avg       0.53      0.59      0.42      8104\n",
            "weighted avg       0.87      0.50      0.60      8104\n",
            "\n"
          ]
        },
        {
          "output_type": "display_data",
          "data": {
            "text/plain": [
              "<Figure size 640x480 with 2 Axes>"
            ],
            "image/png": "[encoded data removed]"
          },
          "metadata": {}
        }
      ]
    },
    {
      "cell_type": "code",
      "source": [],
      "metadata": {
        "id": "EvIxXhYX67w9"
      },
      "execution_count": 52,
      "outputs": []
    }
  ]
}